{
  "nbformat": 4,
  "nbformat_minor": 0,
  "metadata": {
    "colab": {
      "provenance": [],
      "authorship_tag": "ABX9TyPIbmwtMr1UPTtHN4bFh5Zg",
      "include_colab_link": true
    },
    "kernelspec": {
      "name": "python3",
      "display_name": "Python 3"
    },
    "language_info": {
      "name": "python"
    }
  },
  "cells": [
    {
      "cell_type": "markdown",
      "metadata": {
        "id": "view-in-github",
        "colab_type": "text"
      },
      "source": [
        "<a href=\"https://colab.research.google.com/github/sonia-1234-bot/Netflix_recommendation/blob/main/Netfilx_Recommendation.ipynb\" target=\"_parent\"><img src=\"https://colab.research.google.com/assets/colab-badge.svg\" alt=\"Open In Colab\"/></a>"
      ]
    },
    {
      "cell_type": "code",
      "execution_count": 1,
      "metadata": {
        "colab": {
          "base_uri": "https://localhost:8080/"
        },
        "id": "EFT1p14BwHl6",
        "outputId": "b36e2f42-5383-457e-ea2f-ad5a2408db6a"
      },
      "outputs": [
        {
          "output_type": "stream",
          "name": "stdout",
          "text": [
            "Collecting apyori\n",
            "  Downloading apyori-1.1.2.tar.gz (8.6 kB)\n",
            "  Preparing metadata (setup.py) ... \u001b[?25l\u001b[?25hdone\n",
            "Building wheels for collected packages: apyori\n",
            "  Building wheel for apyori (setup.py) ... \u001b[?25l\u001b[?25hdone\n",
            "  Created wheel for apyori: filename=apyori-1.1.2-py3-none-any.whl size=5955 sha256=2339e10f22ff4792e3742c80967d768f1da80b21e5f703fa1151442f0f6e98a5\n",
            "  Stored in directory: /root/.cache/pip/wheels/c4/1a/79/20f55c470a50bb3702a8cb7c94d8ada15573538c7f4baebe2d\n",
            "Successfully built apyori\n",
            "Installing collected packages: apyori\n",
            "Successfully installed apyori-1.1.2\n"
          ]
        }
      ],
      "source": [
        "!pip install apyori"
      ]
    },
    {
      "cell_type": "code",
      "source": [
        "import numpy as np\n",
        "import  pandas as pd\n",
        "import matplotlib.pyplot as plt"
      ],
      "metadata": {
        "id": "4OSjhTvWySP2"
      },
      "execution_count": 2,
      "outputs": []
    },
    {
      "cell_type": "code",
      "source": [
        "dataset=pd.read_csv(\"/content/netflix_movie_watchlist.csv\",header=None)\n",
        "indiv_watchlists=[]\n",
        "for i in range(1,250):\n",
        "    indiv_watchlists.append([str(dataset.values[i,j])for j in range(7)])\n",
        "print(dataset)\n"
      ],
      "metadata": {
        "colab": {
          "base_uri": "https://localhost:8080/"
        },
        "id": "suvDNpipy3yk",
        "outputId": "e187ddc8-a74d-433b-ad5a-b559b104c2cf"
      },
      "execution_count": 3,
      "outputs": [
        {
          "output_type": "stream",
          "name": "stdout",
          "text": [
            "                                             0  \\\n",
            "0                              Dinosaur Planet   \n",
            "1                   Isle of Man TT 2004 Review   \n",
            "2                                    Character   \n",
            "3                 Paula Abdul's Get Up & Dance   \n",
            "4                     The Rise and Fall of ECW   \n",
            "..                                         ...   \n",
            "245                       The Boston Strangler   \n",
            "246                                    Oleanna   \n",
            "247  Michael Moore's The Awful Truth: Season 2   \n",
            "248                                The Hunters   \n",
            "249                        Cast a Giant Shadow   \n",
            "\n",
            "                                                  1  \\\n",
            "0                        Isle of Man TT 2004 Review   \n",
            "1                      Paula Abdul's Get Up & Dance   \n",
            "2                                         Screamers   \n",
            "3                                   Dinosaur Planet   \n",
            "4                                         Character   \n",
            "..                                              ...   \n",
            "245       Michael Moore's The Awful Truth: Season 2   \n",
            "246            Winnie the Pooh: Springtime with Roo   \n",
            "247                               Woman of the Year   \n",
            "248                              North by Northwest   \n",
            "249  Neon Genesis Evangelion: The End of Evangelion   \n",
            "\n",
            "                              2                             3  \\\n",
            "0                    Spider Man                    The Batman   \n",
            "1          My Favorite Brunette  Paula Abdul's Get Up & Dance   \n",
            "2              Immortal Beloved         By Dawn's Early Light   \n",
            "3    Isle of Man TT 2004 Review                     Character   \n",
            "4                         8 Man    Isle of Man TT 2004 Review   \n",
            "..                          ...                           ...   \n",
            "245        Mandela and de Klerk                           NaN   \n",
            "246            Beyond Suspicion                           NaN   \n",
            "247            Straight to Hell                           NaN   \n",
            "248                  Spider Man                    The Batman   \n",
            "249                         NaN                           NaN   \n",
            "\n",
            "                                4                         5  \\\n",
            "0             Ju-Rei: The Uncanny  Deftones: Live in Hawaii   \n",
            "1            My Favorite Brunette           Seeta Aur Geeta   \n",
            "2               Strange Relations                       NaN   \n",
            "3                       Screamers          Immortal Beloved   \n",
            "4                       Character                     8 Man   \n",
            "..                            ...                       ...   \n",
            "245                           NaN                       NaN   \n",
            "246                           NaN                       NaN   \n",
            "247                           NaN                       NaN   \n",
            "248  Paula Abdul's Get Up & Dance      My Favorite Brunette   \n",
            "249                           NaN                       NaN   \n",
            "\n",
            "                       6  \n",
            "0     Eat Your Heart Out  \n",
            "1    Ju-Rei: The Uncanny  \n",
            "2                    NaN  \n",
            "3        Modern Vampires  \n",
            "4          Mother's Boys  \n",
            "..                   ...  \n",
            "245                  NaN  \n",
            "246                  NaN  \n",
            "247                  NaN  \n",
            "248      Seeta Aur Geeta  \n",
            "249                  NaN  \n",
            "\n",
            "[250 rows x 7 columns]\n"
          ]
        }
      ]
    },
    {
      "cell_type": "code",
      "source": [
        "print(indiv_watchlists)"
      ],
      "metadata": {
        "colab": {
          "base_uri": "https://localhost:8080/"
        },
        "id": "PbNM03Zrzi84",
        "outputId": "78f361fc-20f1-4101-e402-9c9dc691f2c7"
      },
      "execution_count": 4,
      "outputs": [
        {
          "output_type": "stream",
          "name": "stdout",
          "text": [
            "[['Isle of Man TT 2004 Review', \"Paula Abdul's Get Up & Dance\", 'My Favorite Brunette', \"Paula Abdul's Get Up & Dance\", 'My Favorite Brunette', 'Seeta Aur Geeta', 'Ju-Rei: The Uncanny'], ['Character', 'Screamers', 'Immortal Beloved', \"By Dawn's Early Light\", 'Strange Relations', 'nan', 'nan'], [\"Paula Abdul's Get Up & Dance\", 'Dinosaur Planet', 'Isle of Man TT 2004 Review', 'Character', 'Screamers', 'Immortal Beloved', 'Modern Vampires'], ['The Rise and Fall of ECW', 'Character', '8 Man', 'Isle of Man TT 2004 Review', 'Character', '8 Man', \"Mother's Boys\"], ['Sick', 'Character', '8 Man', \"Paula Abdul's Get Up & Dance\", 'Character', '8 Man', 'Ghosts of Rwanda: Frontline'], ['8 Man', 'Nature: Antarctica', 'Screamers', \"By Dawn's Early Light\", 'Strange Relations', 'nan', 'The Plainsman'], ['Immortal Beloved', 'Neil Diamond: Greatest Hits Live', '7 Seconds', \"Paula Abdul's Get Up & Dance\", 'My Favorite Brunette', 'Seeta Aur Geeta', 'Storefront Hitchcock'], [\"Class of Nuke 'Em High 2\", 'Screamers', 'Immortal Beloved', \"By Dawn's Early Light\", 'Strange Relations', 'nan', 'Deftones: Live in Hawaii'], ['Fighter', '7 Seconds', \"By Dawn's Early Light\", 'nan', 'nan', 'nan', 'Ju-Rei: The Uncanny'], ['Full Frame: Documentary Shorts', 'Immortal Beloved', 'Seeta Aur Geeta', 'nan', 'nan', 'nan', 'Wild Things'], ['My Favorite Brunette', \"By Dawn's Early Light\", 'Strange Relations', 'nan', 'nan', 'nan', 'Chasing Amy'], ['Lord of the Rings: The Return of the King: Extended Edition: Bonus Material', 'Seeta Aur Geeta', 'The Lion King', 'Character', 'Screamers', 'Immortal Beloved', 'They Crawl'], ['Nature: Antarctica', 'Strange Relations', 'Fighter', 'nan', 'nan', 'nan', 'Mail Call: The Best of Season 2'], ['Neil Diamond: Greatest Hits Live', 'nan', 'Fighter', 'nan', 'nan', 'nan', 'The Pacifier'], ['Screamers', 'Fighter', \"Paula Abdul's Get Up & Dance\", 'My Favorite Brunette', 'Seeta Aur Geeta', 'nan', 'Fear No Evil'], ['7 Seconds', 'Fighter', 'nan', 'nan', 'nan', 'nan', 'The Driver'], ['Immortal Beloved', \"Paula Abdul's Get Up & Dance\", 'Dinosaur Planet', 'Isle of Man TT 2004 Review', 'nan', 'nan', 'Star 80'], [\"By Dawn's Early Light\", 'nan', 'nan', 'nan', 'nan', 'nan', 'The Three Stooges: Three Smart Saps'], ['Seeta Aur Geeta', 'Dinosaur Planet', 'Isle of Man TT 2004 Review', 'The Lion King', 'Spider Man', 'The Batman', 'Rolling Stones: Rock and Roll Circus'], ['Strange Relations', 'Seeta Aur Geeta', 'Fitoor', \"Paula Abdul's Get Up & Dance\", 'My Favorite Brunette', 'nan', 'Midnight: 2000 Seen By...'], ['Chump Change', 'Seeta Aur Geeta', 'nan', 'nan', 'nan', 'nan', 'Tremors 4: The Legend Begins'], [\"Clifford: Clifford Saves the Day! / Clifford's Fluffiest Friend Cleo\", 'Dinosaur Planet', 'The Minions', 'Dinosaur Planet', 'Isle of Man TT 2004 Review', 'nan', 'Noir'], ['My Bloody Valentine', 'Isle of Man TT 2004 Review', 'Isle of Man TT 2004 Review', 'Character', '8 Man', 'nan', 'French and Saunders: Live'], ['Inspector Morse 31: Death Is Now My Neighbour', 'Character', \"Paula Abdul's Get Up & Dance\", 'Character', '8 Man', 'nan', 'The Taming of the Shrew'], ['Never Die Alone', \"Paula Abdul's Get Up & Dance\", 'The Minions', 'Nature: Antarctica', 'Screamers', 'nan', 'Star Trek: Voyager: Season 5'], [\"Sesame Street: Elmo's World: The Street We Live On\", 'The Rise and Fall of ECW', 'Dinosaur Planet', 'Neil Diamond: Greatest Hits Live', '7 Seconds', 'nan', 'Up and Down'], ['Lilo and Stitch', 'Sick', 'Character', 'Screamers', 'Immortal Beloved', 'nan', 'Iceman Cometh'], ['Boycott', '8 Man', 'Character', '7 Seconds', \"By Dawn's Early Light\", 'nan', 'The Last Temptation of Christ'], [\"Something's Gotta Give\", 'Immortal Beloved', 'The Minions', 'Immortal Beloved', 'Seeta Aur Geeta', 'nan', 'The Swarm'], ['Classic Albums: Meat Loaf: Bat Out of Hell', \"Class of Nuke 'Em High 2\", 'The Minions', \"By Dawn's Early Light\", 'Strange Relations', 'nan', 'Dr. Quinn'], [\"ABC Primetime: Mel Gibson's The Passion of the Christ\", 'Fighter', 'The Minions', 'Seeta Aur Geeta', 'nan', 'nan', 'Guns of the Magnificent Seven'], ['Aqua Teen Hunger Force: Vol. 1', 'Full Frame: Documentary Shorts', 'The Minions', 'Strange Relations', 'Fighter', 'nan', 'Pick a Card'], [\"Ashtanga Yoga: Beginner's Practice with Nicki Doane\", 'My Favorite Brunette', 'The Minions', 'Seeta Aur Geeta', 'Fighter', 'nan', 'nan'], ['Ferngully 2: The Magical Rescue', 'Lord of the Rings: The Return of the King: Extended Edition: Bonus Material', 'Character', 'Fighter', \"Paula Abdul's Get Up & Dance\", 'My Favorite Brunette', 'Seeta Aur Geeta'], ['Lady Chatterley', 'Nature: Antarctica', 'nan', 'Fighter', 'nan', 'nan', 'nan'], [\"Zatoichi's Conspiracy\", 'Neil Diamond: Greatest Hits Live', 'Dinosaur Planet', \"Paula Abdul's Get Up & Dance\", 'Dinosaur Planet', 'Isle of Man TT 2004 Review', 'nan'], ['Daydream Obsession', 'Screamers', 'nan', 'nan', 'nan', 'nan', 'nan'], ['Love Reinvented', '7 Seconds', 'Fighter', 'nan', 'nan', 'nan', 'nan'], ['Pitcher and the Pin-Up', 'Immortal Beloved', 'Fighter', 'nan', 'nan', 'nan', 'nan'], ['Horror Vision', \"By Dawn's Early Light\", \"Paula Abdul's Get Up & Dance\", 'nan', 'nan', 'nan', 'nan'], ['Searching for Paradise', 'Seeta Aur Geeta', 'nan', 'nan', 'nan', 'nan', 'nan'], ['Silent Service', 'Strange Relations', 'Dinosaur Planet', 'nan', 'nan', 'nan', 'nan'], ['Spitfire Grill', 'Chump Change', 'Seeta Aur Geeta', 'nan', 'nan', 'nan', 'nan'], ['The Love Letter', \"Clifford: Clifford Saves the Day! / Clifford's Fluffiest Friend Cleo\", 'Seeta Aur Geeta', 'nan', 'nan', 'nan', 'nan'], ['Rudolph the Red-Nosed Reindeer', 'The Rise and Fall of ECW', 'Dinosaur Planet', 'nan', 'nan', 'nan', 'nan'], ['The Bad and the Beautiful', 'Neil Diamond: Greatest Hits Live', 'Dinosaur Planet', 'nan', 'nan', 'nan', 'nan'], ['Justice League', 'Screamers', 'nan', 'nan', 'nan', 'nan', 'nan'], ['Devo: The Complete Truth About De-evolution', '7 Seconds', 'Fighter', 'nan', 'nan', 'nan', 'nan'], ['A Yank in the R.A.F.', 'Immortal Beloved', 'Fighter', 'nan', 'nan', 'nan', 'nan'], ['Jonah: A VeggieTales Movie: Bonus Material', \"By Dawn's Early Light\", \"Paula Abdul's Get Up & Dance\", 'nan', 'nan', 'nan', 'nan'], ['The Weather Underground', 'Seeta Aur Geeta', 'nan', 'nan', 'nan', 'nan', 'nan'], ['The Bonesetter', 'Strange Relations', 'Dinosaur Planet', 'The Batman', 'nan', 'nan', 'nan'], [\"We're Not Married\", 'Chump Change', 'Seeta Aur Geeta', 'nan', 'nan', 'nan', 'nan'], ['Jade', \"Clifford: Clifford Saves the Day! / Clifford's Fluffiest Friend Cleo\", 'Seeta Aur Geeta', 'nan', 'nan', 'nan', 'nan'], ['Carandiru', 'nan', 'Dinosaur Planet', 'nan', 'nan', 'nan', 'nan'], ['Richard III', 'nan', 'nan', 'nan', 'nan', 'nan', 'nan'], ['Dragonheart', 'nan', 'nan', 'nan', 'nan', 'nan', 'nan'], ['Sex and the Beauties', 'nan', 'nan', 'nan', 'nan', 'nan', 'nan'], ['The Libertine', 'nan', 'nan', 'nan', 'nan', 'nan', 'nan'], ['Ricky Martin: One Night Only', 'Spider Man', 'The Batman', 'nan', 'nan', 'nan', 'nan'], [\"Ken Burns' America: Empire of the Air\", 'WWE: Armageddon 2003', 'nan', 'nan', 'nan', 'nan', 'nan'], ['Crash Dive', 'Tai Chi: The 24 Forms', 'nan', 'nan', 'nan', 'nan', 'nan'], ['Outside the Law', 'Maya Lin: A Strong Clear Vision', 'nan', 'nan', 'nan', 'nan', 'nan'], ['Lost in the Pershing Point Hotel', 'At Home Among Strangers', 'nan', 'nan', 'nan', 'nan', 'nan'], ['Barbarian Queen 2', 'Davy Crockett: 50th Anniversary Double Feature', 'nan', 'nan', 'nan', 'nan', 'nan'], ['Vampire Journals', '6ixtynin9', 'nan', 'nan', 'nan', 'nan', 'nan'], ['Invader Zim', 'Grind', 'nan', 'nan', 'nan', 'nan', 'nan'], ['WWE: Armageddon 2003', 'I Love Lucy: Season 2', 'nan', 'nan', 'nan', 'nan', 'nan'], ['Tai Chi: The 24 Forms', 'Congo', 'nan', 'nan', 'nan', 'nan', 'nan'], ['Maya Lin: A Strong Clear Vision', 'Jingle All the Way', 'nan', 'nan', 'nan', 'nan', 'nan'], ['At Home Among Strangers', 'The Killing', 'nan', 'nan', 'nan', 'nan', 'nan'], ['Davy Crockett: 50th Anniversary Double Feature', 'Winter Kills', 'nan', 'nan', 'nan', 'nan', 'nan'], ['6ixtynin9', 'Antarctica: IMAX', 'nan', 'nan', 'nan', 'nan', 'nan'], ['Grind', 'The Frogmen', 'nan', 'nan', 'nan', 'nan', 'nan'], ['I Love Lucy: Season 2', 'Silkwood', 'nan', 'nan', 'nan', 'nan', 'nan'], ['Congo', 'The Powerpuff Girls Movie', 'nan', 'nan', 'nan', 'nan', 'nan'], ['Jingle All the Way', 'Elfen Lied', 'nan', 'nan', 'nan', 'nan', 'nan'], ['The Killing', 'Iron Monkey 2', 'nan', 'nan', 'nan', 'nan', 'nan'], ['Winter Kills', 'Louder Than Bombs', 'nan', 'nan', 'nan', 'nan', 'nan'], ['Antarctica: IMAX', 'Record of Lodoss War: Chronicles of the Heroic Knight', 'nan', 'nan', 'nan', 'nan', 'nan'], ['The Frogmen', 'Chain of Command', 'nan', 'nan', 'nan', 'nan', 'nan'], ['Silkwood', '6ixtynin9', 'Antarctica: IMAX', 'nan', 'nan', 'nan', 'nan'], ['The Powerpuff Girls Movie', 'Grind', 'The Frogmen', 'nan', 'nan', 'nan', 'nan'], ['Elfen Lied', 'I Love Lucy: Season 2', 'Silkwood', 'nan', 'nan', 'nan', 'nan'], ['Iron Monkey 2', 'Congo', 'The Powerpuff Girls Movie', 'nan', 'nan', 'nan', 'nan'], ['Louder Than Bombs', 'Jingle All the Way', 'Elfen Lied', 'nan', 'nan', 'nan', 'nan'], ['Record of Lodoss War: Chronicles of the Heroic Knight', 'The Killing', 'Iron Monkey 2', 'nan', 'nan', 'nan', 'nan'], ['Chain of Command', 'Winter Kills', 'Louder Than Bombs', 'nan', 'nan', 'nan', 'nan'], ['The Lemon Drop Kid', 'Antarctica: IMAX', 'Record of Lodoss War: Chronicles of the Heroic Knight', 'nan', 'nan', 'nan', 'nan'], ['WWE: Royal Rumble 2005', 'The Frogmen', 'Chain of Command', 'nan', 'nan', 'nan', 'nan'], [\"ECW: Cyberslam '99\", 'Silkwood', 'nan', 'nan', 'nan', 'nan', 'nan'], ['They Came Back', \"Paula Abdul's Get Up & Dance\", 'My Favorite Brunette', 'Seeta Aur Geeta', 'nan', 'nan', 'nan'], ['G3: Live in Concert', '6ixtynin9', 'Antarctica: IMAX', 'nan', 'nan', 'nan', 'nan'], ['Dona Herlinda and Her Son', 'Grind', 'The Frogmen', 'nan', 'nan', 'nan', 'nan'], ['Inside the Space Station', 'I Love Lucy: Season 2', 'Silkwood', 'nan', 'nan', 'nan', 'nan'], ['Mostly Martha', 'Congo', 'The Powerpuff Girls Movie', 'nan', 'nan', 'nan', 'nan'], ['The Battle of Algiers: Bonus Material', 'Jingle All the Way', 'Elfen Lied', 'nan', 'nan', 'nan', 'nan'], ['A Fishy Story', 'The Killing', 'Iron Monkey 2', 'nan', 'nan', 'nan', 'nan'], ['Sam the Iron Bridge', 'Winter Kills', 'Louder Than Bombs', 'nan', 'nan', 'nan', 'nan'], ['Complete Shamanic Princess', 'Antarctica: IMAX', 'Record of Lodoss War: Chronicles of the Heroic Knight', 'nan', 'nan', 'nan', 'nan'], ['Notre Musique', 'The Frogmen', 'Chain of Command', 'nan', 'nan', 'nan', 'nan'], ['Sanford and Son: Season 6', 'Silkwood', 'nan', 'nan', 'nan', 'nan', 'nan'], ['The Great Race', \"Paula Abdul's Get Up & Dance\", 'My Favorite Brunette', 'Seeta Aur Geeta', 'nan', 'nan', 'nan'], ['Obsessed', 'Invader Zim', 'Grind', 'nan', 'nan', 'nan', 'nan'], ['Stevie Ray Vaughan and Double Trouble: Live at Montreux 1982 & 1985', 'WWE: Armageddon 2003', 'I Love Lucy: Season 2', 'nan', 'nan', 'nan', 'nan'], ['Magnolia: Bonus Material', 'Tai Chi: The 24 Forms', 'Congo', 'nan', 'nan', 'nan', 'nan'], ['Spartan', 'Maya Lin: A Strong Clear Vision', 'Jingle All the Way', 'nan', 'nan', 'nan', 'nan'], ['No Way Back', 'At Home Among Strangers', 'The Killing', 'nan', 'nan', 'nan', 'nan'], ['Scandal', 'Davy Crockett: 50th Anniversary Double Feature', 'Winter Kills', 'nan', 'nan', 'nan', 'nan'], ['Duplex (Widescreen)', '6ixtynin9', 'Antarctica: IMAX', 'nan', 'nan', 'nan', 'nan'], ['The Eye of Vichy', 'Grind', 'The Frogmen', 'nan', 'nan', 'nan', 'nan'], [\"Bruce Lee: A Warrior's Journey\", 'I Love Lucy: Season 2', 'Silkwood', 'nan', 'nan', 'nan', 'nan'], ['Dominion Tank Police Part 1 & 2', 'Congo', 'The Powerpuff Girls Movie', 'nan', 'nan', 'nan', 'nan'], ['Lord Peter Wimsey: Murder Must Advertise', 'Jingle All the Way', 'Elfen Lied', 'nan', 'nan', 'nan', 'nan'], ['Bear Cub', 'The Killing', 'Iron Monkey 2', 'nan', 'nan', 'nan', 'nan'], ['Silk Stockings', 'Winter Kills', 'Louder Than Bombs', 'nan', 'nan', 'nan', 'nan'], ['Rambo: First Blood Part II', 'Antarctica: IMAX', 'Record of Lodoss War: Chronicles of the Heroic Knight', 'nan', 'nan', 'nan', 'nan'], ['Travel the World by Train: Africa', 'The Frogmen', 'Chain of Command', 'nan', 'nan', 'nan', 'nan'], ['Plain Dirty', 'Grind', 'The Frogmen', 'nan', 'nan', 'nan', 'nan'], ['Beyonce: Live at Wembley', 'I Love Lucy: Season 2', 'Silkwood', 'nan', 'nan', 'nan', 'nan'], ['Cube 2: Hypercube', 'Congo', 'The Powerpuff Girls Movie', 'nan', 'nan', 'nan', 'nan'], ['Chain of Fools', 'Jingle All the Way', 'Elfen Lied', 'nan', 'nan', 'nan', 'nan'], ['Cold Blooded', 'The Killing', 'Iron Monkey 2', 'nan', 'nan', 'nan', 'nan'], ['Nighthawks', 'Winter Kills', 'Louder Than Bombs', 'nan', 'nan', 'nan', 'nan'], ['Vampire Effect (aka Twins Effect)', 'Antarctica: IMAX', 'Record of Lodoss War: Chronicles of the Heroic Knight', 'nan', 'nan', 'nan', 'nan'], ['Fatal Beauty', 'The Frogmen', 'Chain of Command', 'nan', 'nan', 'nan', 'nan'], ['Mr. Vampire', 'nan', 'nan', 'nan', 'nan', 'nan', 'nan'], ['Darkwolf', 'nan', 'nan', 'nan', 'nan', 'nan', 'nan'], ['Drowning on Dry Land', \"Paula Abdul's Get Up & Dance\", 'My Favorite Brunette', 'Seeta Aur Geeta', 'nan', 'nan', 'nan'], ['Arachnid', 'Grind', 'The Frogmen', 'nan', 'nan', 'nan', 'nan'], ['Lucio Fulci: The Beyond', 'I Love Lucy: Season 2', 'Silkwood', 'nan', 'nan', 'nan', 'nan'], ['Viva La Bam: Season 1', 'Congo', 'The Powerpuff Girls Movie', 'nan', 'nan', 'nan', 'nan'], ['Spirit Lost', 'Jingle All the Way', 'Elfen Lied', 'nan', 'nan', 'nan', 'nan'], ['GTO: Great Teacher Onizuka: Set 2', 'The Killing', 'Iron Monkey 2', 'nan', 'nan', 'nan', 'nan'], ['Cat and the Canary', 'Winter Kills', 'Louder Than Bombs', 'nan', 'nan', 'nan', 'nan'], ['Naked Lies', 'Antarctica: IMAX', 'Record of Lodoss War: Chronicles of the Heroic Knight', 'nan', 'nan', 'nan', 'nan'], ['Star Trek: Voyager: Season 1', 'The Frogmen', 'Chain of Command', 'Immortal Beloved', 'nan', 'nan', 'nan'], ['Allergies: A Natural Approach', 'Winston Churchill: The Wilderness Years', 'nan', 'nan', 'nan', 'nan', 'nan'], ['Lost in the Wild', 'Voyage to the Planets and Beyond', 'nan', 'nan', 'nan', 'nan', 'nan'], ['Goddess of Mercy', 'Yellow', 'nan', 'nan', 'nan', 'nan', 'nan'], ['The Tricky Master', \"Chappelle's Show: Season 1\", 'nan', 'nan', 'nan', 'nan', 'nan'], ['The Game', 'Midsomer Murders: Blood Will Out', 'nan', 'nan', 'nan', 'nan', 'nan'], ['Deepak Chopra: The Way of the Wizard & Alchemy', 'The Cookout', 'nan', 'nan', 'nan', 'nan', 'nan'], ['Get Out Your Handkerchiefs', 'Henry: Portrait of a Serial Killer 2', 'nan', 'nan', 'nan', 'nan', 'nan'], ['Cannibal Women in the Avocado Jungle of Death', 'The Carol Burnett Show: Show Stoppers', 'nan', 'nan', 'nan', 'nan', 'nan'], ['Where Sleeping Dogs Lie', 'Butch and Sundance: The Early Days', 'nan', 'nan', 'nan', 'nan', 'nan'], ['Sweet November', 'Peter Gabriel: Growing Up Live', 'nan', 'nan', 'nan', 'nan', 'nan'], ['The Edward R. Murrow Collection', 'Unsolved Mysteries: Psychics', 'nan', 'nan', 'nan', 'nan', 'nan'], ['Firetrap', 'Marooned in Iraq', 'nan', 'nan', 'nan', 'nan', 'nan'], ['Sleepover Nightmare', 'Gross Anatomy', 'nan', 'nan', 'nan', 'nan', 'nan'], ['A Little Princess', \"Chato's Land\", 'nan', 'nan', 'nan', 'nan', 'nan'], ['MTV Yoga', 'Animation Legend: Winsor McCay', 'nan', 'nan', 'nan', 'nan', 'nan'], ['Demon Warrior Koji', 'Unhook the Stars', 'nan', 'nan', 'nan', 'nan', 'nan'], ['The Strongest Man in the World', 'Cartoon Crazys Sci-Fi', 'nan', 'nan', 'nan', 'nan', 'nan'], ['Husbands and Wives', 'Broken Blossoms', 'nan', 'nan', 'nan', 'nan', 'nan'], ['Laird: White Knuckle Extreme', 'Led Zeppelin: The Song Remains the Same', 'nan', 'nan', 'nan', 'nan', 'nan'], ['A Killer Within', 'Winnie the Pooh: Springtime with Roo', 'nan', 'nan', 'nan', 'nan', 'nan'], ['Gentlemen of Fortune', 'Woman of the Year', 'nan', 'nan', 'nan', 'nan', 'nan'], ['Gormenghast', 'North by Northwest', 'nan', 'nan', 'nan', 'nan', 'nan'], ['Ninotchka', 'Neon Genesis Evangelion: The End of Evangelion', 'nan', 'nan', 'nan', 'nan', 'nan'], ['John Cleese on How to Irritate People', 'Pressure Point', 'nan', 'nan', 'nan', 'nan', 'nan'], ['MTV: Making the Band 2: Best of Season 1', 'Stellvia', 'nan', 'nan', 'nan', 'nan', 'nan'], ['One Last Dance', 'Road Dogz', 'nan', 'nan', 'nan', 'nan', 'nan'], ['Richard Pryor: Live on the Sunset Strip', 'The Boston Strangler', 'nan', 'nan', 'nan', 'nan', 'nan'], ['Fame', 'Oleanna', 'nan', 'nan', 'nan', 'nan', 'nan'], ['The Chorus', \"Michael Moore's The Awful Truth: Season 2\", 'nan', 'nan', 'nan', 'nan', 'nan'], ['Smokey and the Bandit Part 3', 'Character', 'Screamers', 'Immortal Beloved', 'nan', 'nan', 'nan'], ['Cartoon Network Halloween: 9 Creepy Cartoon Capers', 'Winston Churchill: The Wilderness Years', 'nan', 'nan', 'nan', 'nan', 'nan'], ['Tomorrow', 'Voyage to the Planets and Beyond', 'nan', 'nan', 'nan', 'nan', 'nan'], ['Funny Face', 'Yellow', 'nan', 'nan', 'nan', 'nan', 'nan'], ['Jack', \"Chappelle's Show: Season 1\", 'nan', 'nan', 'nan', 'nan', 'nan'], [\"The Devil's Brigade\", 'Midsomer Murders: Blood Will Out', 'nan', 'nan', 'nan', 'nan', 'nan'], ['Adam-12: Season 1', 'The Cookout', 'nan', 'nan', 'nan', 'nan', 'nan'], ['Reservoir Dogs', 'Henry: Portrait of a Serial Killer 2', 'nan', 'nan', 'nan', 'nan', 'nan'], ['The History Channel Presents: Troy: Unearthing the Legend', 'The Carol Burnett Show: Show Stoppers', 'nan', 'nan', 'nan', 'nan', 'nan'], ['Pressure', 'Butch and Sundance: The Early Days', 'My Favorite Brunette', 'Seeta Aur Geeta', 'nan', 'nan', 'nan'], ['Regular Guys', 'Peter Gabriel: Growing Up Live', 'nan', 'nan', 'nan', 'nan', 'nan'], ['Bollywood Bound', 'Unsolved Mysteries: Psychics', 'nan', 'nan', 'nan', 'nan', 'nan'], ['Scratch', 'Marooned in Iraq', 'nan', 'nan', 'nan', 'nan', 'nan'], ['The Last Shot', 'Gross Anatomy', 'nan', 'nan', 'nan', 'nan', 'nan'], ['Moby: Play', \"Chato's Land\", 'nan', 'nan', 'nan', 'nan', 'nan'], ['IFilm: Deranged', 'Animation Legend: Winsor McCay', 'nan', 'nan', 'nan', 'nan', 'nan'], ['Billy Blanks: Tae Bo: Cardio Circuit 1', 'Unhook the Stars', 'nan', 'nan', 'nan', 'nan', 'nan'], ['Missing in Action 2: The Beginning / Missing in Action 3: Braddock', 'Cartoon Crazys Sci-Fi', 'nan', 'nan', 'nan', 'nan', 'nan'], ['Panic in the Streets', 'Broken Blossoms', 'nan', 'nan', 'nan', 'nan', 'nan'], ['Death to Smoochy', 'Led Zeppelin: The Song Remains the Same', 'nan', 'nan', 'nan', 'nan', 'nan'], ['Dead Birds', 'Winnie the Pooh: Springtime with Roo', 'nan', 'nan', 'nan', 'nan', 'nan'], ['Airplane II: The Sequel', 'Woman of the Year', 'nan', 'nan', 'nan', 'nan', 'nan'], ['Blood and Sand', 'North by Northwest', 'nan', 'nan', 'nan', 'nan', 'nan'], ['X2: X-Men United', 'Neon Genesis Evangelion: The End of Evangelion', 'My Favorite Brunette', 'Seeta Aur Geeta', 'nan', 'nan', 'nan'], ['The SoulTaker', 'Pressure Point', 'nan', 'nan', 'nan', 'nan', 'nan'], ['Marilyn Manson: Fear of a Satanic Planet', 'Stellvia', 'nan', 'nan', 'nan', 'nan', 'nan'], ['Arliss: The Best of Arliss', 'Road Dogz', 'nan', 'nan', 'nan', 'nan', 'nan'], ['Chasing Freedom', 'The Boston Strangler', 'nan', 'nan', 'nan', 'nan', 'nan'], ['Peter Tosh: Stepping Razor: Red X', 'Oleanna', 'nan', 'nan', 'nan', 'nan', 'nan'], ['Taking Lives', \"Michael Moore's The Awful Truth: Season 2\", 'nan', 'nan', 'nan', 'nan', 'nan'], ['Gupt', 'Winston Churchill: The Wilderness Years', 'nan', 'nan', 'nan', 'nan', 'nan'], ['The Deer Hunter', 'Voyage to the Planets and Beyond', 'nan', 'nan', 'nan', 'nan', 'nan'], ['The Fall of the Roman Empire', 'Yellow', 'nan', 'nan', 'nan', 'nan', 'nan'], ['Home Movie', \"Chappelle's Show: Season 1\", 'nan', 'nan', 'nan', 'nan', 'nan'], [\"Ruby's Bucket of Blood\", 'Midsomer Murders: Blood Will Out', 'Screamers', 'Immortal Beloved', 'Character', 'The Lion King', 'nan'], ['Sports Illustrated Swimsuit Edition: 1997', 'The Cookout', 'nan', 'nan', 'nan', 'nan', 'nan'], ['Venus Boyz', 'Henry: Portrait of a Serial Killer 2', 'nan', 'nan', 'nan', 'nan', 'nan'], ['Troy: Bonus Material', 'The Carol Burnett Show: Show Stoppers', 'nan', 'nan', 'nan', 'nan', 'nan'], ['Unconstitutional: The War on Our Civil Liberties', 'Butch and Sundance: The Early Days', 'nan', 'nan', 'nan', 'nan', 'nan'], ['Denise Austin: Ultimate Fat Burner', 'Peter Gabriel: Growing Up Live', 'nan', 'nan', 'nan', 'nan', 'nan'], ['The Three Stooges: Sing a Song of Six Pants', 'Unsolved Mysteries: Psychics', 'nan', 'nan', 'nan', 'nan', 'nan'], ['Star Trek: Deep Space Nine: Season 5', 'Marooned in Iraq', 'nan', 'nan', 'nan', 'nan', 'nan'], ['Onmyoji', 'Gross Anatomy', 'nan', 'nan', 'nan', 'nan', 'nan'], ['The Agronomist', \"Chato's Land\", 'nan', 'nan', 'nan', 'nan', 'nan'], ['Querelle', 'Animation Legend: Winsor McCay', 'nan', 'nan', 'nan', 'nan', 'nan'], ['Dinner Rush', 'Unhook the Stars', 'nan', 'nan', 'nan', 'nan', 'nan'], ['Read-Along: Beauty and the Beast', 'Cartoon Crazys Sci-Fi', 'Winston Churchill: The Wilderness Years', 'nan', 'nan', 'nan', 'nan'], [\"That '70s Show: Season 1\", 'Broken Blossoms', 'Voyage to the Planets and Beyond', 'nan', 'nan', 'nan', 'nan'], ['Impostor', 'Led Zeppelin: The Song Remains the Same', 'Yellow', 'nan', 'nan', 'nan', 'nan'], ['Cherry 2000', 'Winnie the Pooh: Springtime with Roo', \"Chappelle's Show: Season 1\", 'nan', 'nan', 'nan', 'nan'], ['Triumph: Live at the US Festival', 'Woman of the Year', 'Midsomer Murders: Blood Will Out', 'nan', 'nan', 'nan', 'nan'], ['Neon Bible', 'North by Northwest', 'The Cookout', 'nan', 'nan', 'nan', 'nan'], ['Winston Churchill: The Wilderness Years', 'Neon Genesis Evangelion: The End of Evangelion', 'Henry: Portrait of a Serial Killer 2', 'nan', 'nan', 'nan', 'nan'], ['Voyage to the Planets and Beyond', 'Pressure Point', 'The Carol Burnett Show: Show Stoppers', 'nan', 'nan', 'nan', 'nan'], ['Yellow', 'Stellvia', 'Butch and Sundance: The Early Days', 'nan', 'nan', 'nan', 'nan'], [\"Chappelle's Show: Season 1\", 'Road Dogz', 'Peter Gabriel: Growing Up Live', 'nan', 'nan', 'nan', 'nan'], ['Midsomer Murders: Blood Will Out', 'The Boston Strangler', 'Unsolved Mysteries: Psychics', 'nan', 'nan', 'nan', 'nan'], ['The Cookout', 'Oleanna', 'Marooned in Iraq', 'nan', 'nan', 'nan', 'nan'], ['Henry: Portrait of a Serial Killer 2', \"Michael Moore's The Awful Truth: Season 2\", 'Gross Anatomy', 'nan', 'nan', 'nan', 'nan'], ['The Carol Burnett Show: Show Stoppers', 'Peter Gabriel: Growing Up Live', \"Chato's Land\", 'nan', 'nan', 'nan', 'nan'], ['Butch and Sundance: The Early Days', 'Unsolved Mysteries: Psychics', 'Animation Legend: Winsor McCay', 'nan', 'nan', 'nan', 'nan'], ['Peter Gabriel: Growing Up Live', 'Marooned in Iraq', 'Unhook the Stars', 'nan', 'nan', 'nan', 'nan'], ['Unsolved Mysteries: Psychics', 'Gross Anatomy', 'Cartoon Crazys Sci-Fi', 'nan', 'nan', 'nan', 'nan'], ['Marooned in Iraq', \"Chato's Land\", 'Broken Blossoms', 'nan', 'nan', 'nan', 'nan'], ['Gross Anatomy', 'Animation Legend: Winsor McCay', 'Led Zeppelin: The Song Remains the Same', 'nan', 'nan', 'nan', 'nan'], [\"Chato's Land\", 'Unhook the Stars', 'Winnie the Pooh: Springtime with Roo', 'nan', 'nan', 'nan', 'nan'], ['Animation Legend: Winsor McCay', 'Cartoon Crazys Sci-Fi', 'Woman of the Year', 'nan', 'nan', 'nan', 'nan'], ['Unhook the Stars', 'Broken Blossoms', 'North by Northwest', 'nan', 'nan', 'nan', 'nan'], ['Cartoon Crazys Sci-Fi', 'Led Zeppelin: The Song Remains the Same', 'Neon Genesis Evangelion: The End of Evangelion', 'nan', 'nan', 'nan', 'nan'], ['Broken Blossoms', 'Winnie the Pooh: Springtime with Roo', 'Pressure Point', 'nan', 'nan', 'nan', 'nan'], ['Led Zeppelin: The Song Remains the Same', 'Woman of the Year', 'Stellvia', 'nan', 'nan', 'nan', 'nan'], ['Winnie the Pooh: Springtime with Roo', 'North by Northwest', 'Road Dogz', 'nan', 'nan', 'nan', 'nan'], ['Woman of the Year', 'Neon Genesis Evangelion: The End of Evangelion', 'The Boston Strangler', 'nan', 'nan', 'nan', 'nan'], ['North by Northwest', 'Pressure Point', 'Oleanna', 'nan', 'nan', 'nan', 'nan'], ['Neon Genesis Evangelion: The End of Evangelion', 'Stellvia', \"Michael Moore's The Awful Truth: Season 2\", 'nan', 'nan', 'nan', 'nan'], ['Pressure Point', 'Road Dogz', 'Saturday Night Live: The Best of Jon Lovitz', 'Spider Man', 'The Batman', 'nan', 'nan'], ['Stellvia', 'The Boston Strangler', 'Combat! Season 3: Operation 2', 'nan', 'nan', 'nan', 'nan'], ['Road Dogz', 'Oleanna', 'Futurama: Monster Robot Maniac Fun Collection', \"Paula Abdul's Get Up & Dance\", 'My Favorite Brunette', 'Seeta Aur Geeta', 'nan'], ['The Boston Strangler', \"Michael Moore's The Awful Truth: Season 2\", 'Mandela and de Klerk', 'nan', 'nan', 'nan', 'nan'], ['Oleanna', 'Winnie the Pooh: Springtime with Roo', 'Beyond Suspicion', 'nan', 'nan', 'nan', 'nan'], [\"Michael Moore's The Awful Truth: Season 2\", 'Woman of the Year', 'Straight to Hell', 'nan', 'nan', 'nan', 'nan'], ['The Hunters', 'North by Northwest', 'Spider Man', 'The Batman', \"Paula Abdul's Get Up & Dance\", 'My Favorite Brunette', 'Seeta Aur Geeta'], ['Cast a Giant Shadow', 'Neon Genesis Evangelion: The End of Evangelion', 'nan', 'nan', 'nan', 'nan', 'nan']]\n"
          ]
        }
      ]
    },
    {
      "cell_type": "code",
      "source": [
        "from apyori import apriori\n",
        "movie_recommendation_intelligence=apriori(transactions=indiv_watchlists,min_support=0.02,min_confidence=0.5,min_lift=24)\n"
      ],
      "metadata": {
        "id": "OAqEUFfs1A7T"
      },
      "execution_count": 5,
      "outputs": []
    },
    {
      "cell_type": "code",
      "source": [
        "results=list(movie_recommendation_intelligence)\n",
        "print(results)"
      ],
      "metadata": {
        "colab": {
          "base_uri": "https://localhost:8080/"
        },
        "id": "JbYPQd8q2Vwi",
        "outputId": "7c2d75d4-847a-4680-e2d2-df31dccf0bad"
      },
      "execution_count": 6,
      "outputs": [
        {
          "output_type": "stream",
          "name": "stdout",
          "text": [
            "[RelationRecord(items=frozenset({'Congo', 'The Powerpuff Girls Movie'}), support=0.024096385542168676, ordered_statistics=[OrderedStatistic(items_base=frozenset({'Congo'}), items_add=frozenset({'The Powerpuff Girls Movie'}), confidence=0.7500000000000001, lift=26.678571428571434), OrderedStatistic(items_base=frozenset({'The Powerpuff Girls Movie'}), items_add=frozenset({'Congo'}), confidence=0.8571428571428572, lift=26.678571428571434)]), RelationRecord(items=frozenset({'Elfen Lied', 'Jingle All the Way'}), support=0.024096385542168676, ordered_statistics=[OrderedStatistic(items_base=frozenset({'Elfen Lied'}), items_add=frozenset({'Jingle All the Way'}), confidence=0.8571428571428572, lift=26.678571428571434), OrderedStatistic(items_base=frozenset({'Jingle All the Way'}), items_add=frozenset({'Elfen Lied'}), confidence=0.7500000000000001, lift=26.678571428571434)]), RelationRecord(items=frozenset({'Iron Monkey 2', 'The Killing'}), support=0.024096385542168676, ordered_statistics=[OrderedStatistic(items_base=frozenset({'Iron Monkey 2'}), items_add=frozenset({'The Killing'}), confidence=0.8571428571428572, lift=26.678571428571434), OrderedStatistic(items_base=frozenset({'The Killing'}), items_add=frozenset({'Iron Monkey 2'}), confidence=0.7500000000000001, lift=26.678571428571434)]), RelationRecord(items=frozenset({'Louder Than Bombs', 'Winter Kills'}), support=0.024096385542168676, ordered_statistics=[OrderedStatistic(items_base=frozenset({'Louder Than Bombs'}), items_add=frozenset({'Winter Kills'}), confidence=0.8571428571428572, lift=26.678571428571434), OrderedStatistic(items_base=frozenset({'Winter Kills'}), items_add=frozenset({'Louder Than Bombs'}), confidence=0.7500000000000001, lift=26.678571428571434)]), RelationRecord(items=frozenset({'Congo', 'The Powerpuff Girls Movie', 'nan'}), support=0.024096385542168676, ordered_statistics=[OrderedStatistic(items_base=frozenset({'Congo'}), items_add=frozenset({'The Powerpuff Girls Movie', 'nan'}), confidence=0.7500000000000001, lift=26.678571428571434), OrderedStatistic(items_base=frozenset({'The Powerpuff Girls Movie'}), items_add=frozenset({'Congo', 'nan'}), confidence=0.8571428571428572, lift=26.678571428571434), OrderedStatistic(items_base=frozenset({'Congo', 'nan'}), items_add=frozenset({'The Powerpuff Girls Movie'}), confidence=0.7500000000000001, lift=26.678571428571434), OrderedStatistic(items_base=frozenset({'The Powerpuff Girls Movie', 'nan'}), items_add=frozenset({'Congo'}), confidence=0.8571428571428572, lift=26.678571428571434)]), RelationRecord(items=frozenset({'Elfen Lied', 'Jingle All the Way', 'nan'}), support=0.024096385542168676, ordered_statistics=[OrderedStatistic(items_base=frozenset({'Elfen Lied'}), items_add=frozenset({'Jingle All the Way', 'nan'}), confidence=0.8571428571428572, lift=26.678571428571434), OrderedStatistic(items_base=frozenset({'Jingle All the Way'}), items_add=frozenset({'Elfen Lied', 'nan'}), confidence=0.7500000000000001, lift=26.678571428571434), OrderedStatistic(items_base=frozenset({'Elfen Lied', 'nan'}), items_add=frozenset({'Jingle All the Way'}), confidence=0.8571428571428572, lift=26.678571428571434), OrderedStatistic(items_base=frozenset({'Jingle All the Way', 'nan'}), items_add=frozenset({'Elfen Lied'}), confidence=0.7500000000000001, lift=26.678571428571434)]), RelationRecord(items=frozenset({'Iron Monkey 2', 'The Killing', 'nan'}), support=0.024096385542168676, ordered_statistics=[OrderedStatistic(items_base=frozenset({'Iron Monkey 2'}), items_add=frozenset({'The Killing', 'nan'}), confidence=0.8571428571428572, lift=26.678571428571434), OrderedStatistic(items_base=frozenset({'The Killing'}), items_add=frozenset({'Iron Monkey 2', 'nan'}), confidence=0.7500000000000001, lift=26.678571428571434), OrderedStatistic(items_base=frozenset({'Iron Monkey 2', 'nan'}), items_add=frozenset({'The Killing'}), confidence=0.8571428571428572, lift=26.678571428571434), OrderedStatistic(items_base=frozenset({'The Killing', 'nan'}), items_add=frozenset({'Iron Monkey 2'}), confidence=0.7500000000000001, lift=26.678571428571434)]), RelationRecord(items=frozenset({'nan', 'Louder Than Bombs', 'Winter Kills'}), support=0.024096385542168676, ordered_statistics=[OrderedStatistic(items_base=frozenset({'Louder Than Bombs'}), items_add=frozenset({'Winter Kills', 'nan'}), confidence=0.8571428571428572, lift=26.678571428571434), OrderedStatistic(items_base=frozenset({'Winter Kills'}), items_add=frozenset({'Louder Than Bombs', 'nan'}), confidence=0.7500000000000001, lift=26.678571428571434), OrderedStatistic(items_base=frozenset({'Louder Than Bombs', 'nan'}), items_add=frozenset({'Winter Kills'}), confidence=0.8571428571428572, lift=26.678571428571434), OrderedStatistic(items_base=frozenset({'Winter Kills', 'nan'}), items_add=frozenset({'Louder Than Bombs'}), confidence=0.7500000000000001, lift=26.678571428571434)])]\n"
          ]
        }
      ]
    },
    {
      "cell_type": "code",
      "source": [
        "def inspect(results):\n",
        "  movie1=[tuple(result[2][0][0])[0] for result in results]\n",
        "  movie2=[tuple(result[2][0][1])[0] for result in results]\n",
        "  support=[result[1] for result in results]\n",
        "  confidence=[result[2][0][2]for result in results]\n",
        "  lift=[result[2][0][3]for result in results]\n",
        "  return list(zip(movie1,movie2,support,confidence,lift))\n",
        "DataFrame_intelligence=pd.DataFrame(inspect(results),columns=[\"movie1\",\"movie2\",\"support\",\"confidence\",\"lift\"])\n"
      ],
      "metadata": {
        "id": "2sWAvvB92lfF"
      },
      "execution_count": 7,
      "outputs": []
    },
    {
      "cell_type": "code",
      "source": [
        "DataFrame_intelligence =DataFrame_intelligence.dropna(subset=[\"confidence\", \"lift\"])\n",
        "print(DataFrame_intelligence)"
      ],
      "metadata": {
        "colab": {
          "base_uri": "https://localhost:8080/"
        },
        "id": "E1a18ZnZPJea",
        "outputId": "ef02101b-5214-4ab1-fc59-5a38af1b34d9"
      },
      "execution_count": 8,
      "outputs": [
        {
          "output_type": "stream",
          "name": "stdout",
          "text": [
            "              movie1                     movie2   support  confidence  \\\n",
            "0              Congo  The Powerpuff Girls Movie  0.024096    0.750000   \n",
            "1         Elfen Lied         Jingle All the Way  0.024096    0.857143   \n",
            "2      Iron Monkey 2                The Killing  0.024096    0.857143   \n",
            "3  Louder Than Bombs               Winter Kills  0.024096    0.857143   \n",
            "4              Congo  The Powerpuff Girls Movie  0.024096    0.750000   \n",
            "5         Elfen Lied         Jingle All the Way  0.024096    0.857143   \n",
            "6      Iron Monkey 2                The Killing  0.024096    0.857143   \n",
            "7  Louder Than Bombs               Winter Kills  0.024096    0.857143   \n",
            "\n",
            "        lift  \n",
            "0  26.678571  \n",
            "1  26.678571  \n",
            "2  26.678571  \n",
            "3  26.678571  \n",
            "4  26.678571  \n",
            "5  26.678571  \n",
            "6  26.678571  \n",
            "7  26.678571  \n"
          ]
        }
      ]
    },
    {
      "cell_type": "code",
      "source": [
        "DataFrame_intelligence = DataFrame_intelligence.drop_duplicates(subset=[\"movie1\", \"movie2\", \"support\"])\n",
        "print(DataFrame_intelligence)\n",
        "\n"
      ],
      "metadata": {
        "colab": {
          "base_uri": "https://localhost:8080/"
        },
        "id": "dX2g_6UxW4Fr",
        "outputId": "bdd40df8-5254-4b04-caba-c7019090e109"
      },
      "execution_count": 9,
      "outputs": [
        {
          "output_type": "stream",
          "name": "stdout",
          "text": [
            "              movie1                     movie2   support  confidence  \\\n",
            "0              Congo  The Powerpuff Girls Movie  0.024096    0.750000   \n",
            "1         Elfen Lied         Jingle All the Way  0.024096    0.857143   \n",
            "2      Iron Monkey 2                The Killing  0.024096    0.857143   \n",
            "3  Louder Than Bombs               Winter Kills  0.024096    0.857143   \n",
            "\n",
            "        lift  \n",
            "0  26.678571  \n",
            "1  26.678571  \n",
            "2  26.678571  \n",
            "3  26.678571  \n"
          ]
        }
      ]
    },
    {
      "cell_type": "code",
      "source": [],
      "metadata": {
        "id": "HZhJMxtFPtyk"
      },
      "execution_count": 9,
      "outputs": []
    }
  ]
}